{
 "cells": [
  {
   "cell_type": "code",
   "execution_count": 1,
   "id": "39b55722-eaa7-4dce-bc84-ecec653ffa45",
   "metadata": {},
   "outputs": [],
   "source": [
    "import numpy as np"
   ]
  },
  {
   "cell_type": "code",
   "execution_count": 81,
   "id": "b8ddc25c-b3ae-4025-a421-002ccdea428e",
   "metadata": {},
   "outputs": [],
   "source": [
    "def get_mean(x_list):\n",
    "    sum = 0\n",
    "    for x in x_list:\n",
    "        sum = sum + x\n",
    "    return sum / len(x_list)\n",
    "\n",
    "def get_mode(x_list):\n",
    "    frequency = {}\n",
    "    mode_frequency = 0\n",
    "    for x in x_list:\n",
    "        frequency[x] = frequency.get(x, 0) + 1\n",
    "        if frequency[x] > mode_frequency:\n",
    "            mode_frequency = frequency[x]\n",
    "    return [ \n",
    "        key \n",
    "        for key, value in frequency.items() \n",
    "        if value == mode_frequency\n",
    "    ]\n",
    "\n",
    "def get_median(x_list):\n",
    "    sortedlist = sorted(x_list)\n",
    "    l = len(sortedlist)\n",
    "    index = l // 2\n",
    "    if l % 2 == 0:\n",
    "        median = (sortedlist[index - 1] + sortedlist[index]) / 2\n",
    "    else:\n",
    "        median = sortedlist[index]\n",
    "    return median"
   ]
  },
  {
   "cell_type": "code",
   "execution_count": 82,
   "id": "4594194e-f88f-443b-ab4f-6060dc14f91a",
   "metadata": {},
   "outputs": [],
   "source": [
    "x = [35,50,50,50,56,60,60,75,250]"
   ]
  },
  {
   "cell_type": "code",
   "execution_count": 83,
   "id": "a1010c1c-1211-48c8-b1c5-84f1b8438eb7",
   "metadata": {
    "tags": []
   },
   "outputs": [],
   "source": [
    "mean = get_mean(x)\n",
    "mode = get_mode(x)\n",
    "median = get_median(x)"
   ]
  },
  {
   "cell_type": "code",
   "execution_count": 80,
   "id": "9a48c1a1-5629-4505-9440-41cbfe88cf6b",
   "metadata": {},
   "outputs": [
    {
     "name": "stdout",
     "output_type": "stream",
     "text": [
      "Mean: 76.22222222222223\n",
      "Mode: [50]\n",
      "Median: 56\n"
     ]
    }
   ],
   "source": [
    "print(f'Mean: {mean}\\nMode: {mode}\\nMedian: {median}')"
   ]
  },
  {
   "cell_type": "code",
   "execution_count": 75,
   "id": "33f1b355-e99a-4437-a6aa-865be6bf2b35",
   "metadata": {},
   "outputs": [],
   "source": [
    "import statistics\n",
    "mean = statistics.mean(x)\n",
    "mode = statistics.mode(x)\n",
    "median = statistics.median(x)"
   ]
  },
  {
   "cell_type": "code",
   "execution_count": 76,
   "id": "aca5bcc5-14ba-410d-8364-e51516bbc401",
   "metadata": {},
   "outputs": [
    {
     "name": "stdout",
     "output_type": "stream",
     "text": [
      "VALIDATION:\n",
      "Mean: 76.22222222222223\n",
      "Mode: 50\n",
      "Median: 56\n"
     ]
    }
   ],
   "source": [
    "print(f'VALIDATION:\\nMean: {mean}\\nMode: {mode}\\nMedian: {median}')"
   ]
  },
  {
   "cell_type": "code",
   "execution_count": null,
   "id": "cd4e920c-04d6-409c-8a5b-d119fe1cbc40",
   "metadata": {},
   "outputs": [],
   "source": []
  }
 ],
 "metadata": {
  "kernelspec": {
   "display_name": "Python 3",
   "language": "python",
   "name": "python3"
  },
  "language_info": {
   "codemirror_mode": {
    "name": "ipython",
    "version": 3
   },
   "file_extension": ".py",
   "mimetype": "text/x-python",
   "name": "python",
   "nbconvert_exporter": "python",
   "pygments_lexer": "ipython3",
   "version": "3.8.8"
  }
 },
 "nbformat": 4,
 "nbformat_minor": 5
}
