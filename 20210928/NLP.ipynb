{
 "cells": [
  {
   "cell_type": "code",
   "execution_count": 7,
   "id": "af6aa5f0-aefc-42b6-ac07-2a6f6d0f0980",
   "metadata": {},
   "outputs": [],
   "source": [
    "word_to_stem = ['Affection', 'Affective', 'Affects', 'Affected']"
   ]
  },
  {
   "cell_type": "code",
   "execution_count": 10,
   "id": "6e2b95ff-3ef8-4ec1-8f95-3161cba34ac9",
   "metadata": {},
   "outputs": [
    {
     "name": "stdout",
     "output_type": "stream",
     "text": [
      "Affection: affect\n",
      "Affective: affect\n",
      "Affects: affect\n",
      "Affected: affect\n"
     ]
    }
   ],
   "source": [
    "from nltk.stem import LancasterStemmer\n",
    "lst = LancasterStemmer()\n",
    "for word in word_to_stem:\n",
    "    print(f'{word}: {lst.stem(word)}')"
   ]
  },
  {
   "cell_type": "code",
   "execution_count": 11,
   "id": "b593c610-1a08-4ae0-b525-c4513825fb57",
   "metadata": {},
   "outputs": [
    {
     "name": "stdout",
     "output_type": "stream",
     "text": [
      "Affection: affect\n",
      "Affective: affect\n",
      "Affects: affect\n",
      "Affected: affect\n"
     ]
    }
   ],
   "source": [
    "from nltk.stem import PorterStemmer\n",
    "pst = PorterStemmer()\n",
    "for word in word_to_stem:\n",
    "    print(f'{word}: {pst.stem(word)}')"
   ]
  },
  {
   "cell_type": "markdown",
   "id": "c484056e-cef6-4ae1-8b7b-f7b7b8376c73",
   "metadata": {},
   "source": [
    "# Lemmatization"
   ]
  },
  {
   "cell_type": "code",
   "execution_count": 12,
   "id": "438bc68b-64bb-4705-b3f8-71fb3c93556d",
   "metadata": {},
   "outputs": [],
   "source": [
    "from nltk.stem import WordNetLemmatizer\n",
    "lem = WordNetLemmatizer()\n",
    "from nltk.stem import PorterStemmer\n",
    "pst = PorterStemmer()"
   ]
  },
  {
   "cell_type": "code",
   "execution_count": 13,
   "id": "b4a0fbd5-2b9f-42bc-ac54-e50ae02758f8",
   "metadata": {},
   "outputs": [
    {
     "data": {
      "text/plain": [
       "'ate'"
      ]
     },
     "execution_count": 13,
     "metadata": {},
     "output_type": "execute_result"
    }
   ],
   "source": [
    "pst.stem('ate')"
   ]
  },
  {
   "cell_type": "code",
   "execution_count": 15,
   "id": "5fe8ceef-a15e-4ee7-bba3-10e3c420ec6d",
   "metadata": {},
   "outputs": [
    {
     "name": "stdout",
     "output_type": "stream",
     "text": [
      "univers univers\n"
     ]
    }
   ],
   "source": [
    "print(pst.stem('university'), pst.stem('universal'))"
   ]
  },
  {
   "cell_type": "code",
   "execution_count": 25,
   "id": "996c8370-c3b3-451c-b88d-4518fa492145",
   "metadata": {},
   "outputs": [],
   "source": [
    "def display_lemmatize(my_word):\n",
    "    print('stem:', pst.stem(my_word))\n",
    "    print('Lemmatize: ', lem.lemmatize(my_word))\n",
    "    print('Lemmatize (noun): ', lem.lemmatize(my_word, pos='n'))\n",
    "    print('Lemmatize (verb): ', lem.lemmatize(my_word, pos='v'))\n",
    "    print('Lemmatize (r): ', lem.lemmatize(my_word, pos='r'))"
   ]
  },
  {
   "cell_type": "code",
   "execution_count": 26,
   "id": "2f963d51-3f12-4708-95ad-365302e42474",
   "metadata": {},
   "outputs": [
    {
     "name": "stdout",
     "output_type": "stream",
     "text": [
      "stem: run\n",
      "Lemmatize:  running\n",
      "Lemmatize (noun):  running\n",
      "Lemmatize (verb):  run\n",
      "Lemmatize (r):  running\n"
     ]
    }
   ],
   "source": [
    "display_lemmatize('running')"
   ]
  },
  {
   "cell_type": "code",
   "execution_count": 27,
   "id": "432ce751-432a-448a-a966-7a01990756a4",
   "metadata": {},
   "outputs": [
    {
     "name": "stdout",
     "output_type": "stream",
     "text": [
      "stem: better\n",
      "Lemmatize:  better\n",
      "Lemmatize (noun):  better\n",
      "Lemmatize (verb):  better\n",
      "Lemmatize (r):  well\n"
     ]
    }
   ],
   "source": [
    "display_lemmatize('better')"
   ]
  },
  {
   "cell_type": "code",
   "execution_count": 28,
   "id": "ab2a17cc-0432-4758-83d1-2d96b99d1cbd",
   "metadata": {},
   "outputs": [
    {
     "name": "stdout",
     "output_type": "stream",
     "text": [
      "stem: ate\n",
      "Lemmatize:  ate\n",
      "Lemmatize (noun):  ate\n",
      "Lemmatize (verb):  eat\n",
      "Lemmatize (r):  ate\n"
     ]
    }
   ],
   "source": [
    "display_lemmatize('ate')"
   ]
  },
  {
   "cell_type": "code",
   "execution_count": 31,
   "id": "4a1f077f-b621-4d97-8067-f2726d933eb5",
   "metadata": {},
   "outputs": [
    {
     "name": "stdout",
     "output_type": "stream",
     "text": [
      "stem: see\n",
      "Lemmatize:  seeing\n",
      "Lemmatize (noun):  seeing\n",
      "Lemmatize (verb):  see\n",
      "Lemmatize (r):  seeing\n"
     ]
    }
   ],
   "source": [
    "display_lemmatize('seeing')"
   ]
  },
  {
   "cell_type": "code",
   "execution_count": null,
   "id": "d49b5805-985b-471d-9d45-06e4f5aaf7fd",
   "metadata": {},
   "outputs": [],
   "source": []
  }
 ],
 "metadata": {
  "kernelspec": {
   "display_name": "Python 3",
   "language": "python",
   "name": "python3"
  },
  "language_info": {
   "codemirror_mode": {
    "name": "ipython",
    "version": 3
   },
   "file_extension": ".py",
   "mimetype": "text/x-python",
   "name": "python",
   "nbconvert_exporter": "python",
   "pygments_lexer": "ipython3",
   "version": "3.8.10"
  }
 },
 "nbformat": 4,
 "nbformat_minor": 5
}
