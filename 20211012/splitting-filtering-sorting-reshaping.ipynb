{
 "cells": [
  {
   "cell_type": "code",
   "execution_count": 1,
   "id": "c624e6d9-2af7-4987-9dfd-769391c6ad6e",
   "metadata": {},
   "outputs": [],
   "source": [
    "import numpy as np"
   ]
  },
  {
   "cell_type": "code",
   "execution_count": 2,
   "id": "34f3103b-df82-4417-a1e4-351565f2ebda",
   "metadata": {},
   "outputs": [],
   "source": [
    "dataset = np.arange(48).reshape(6,8)"
   ]
  },
  {
   "cell_type": "code",
   "execution_count": 3,
   "id": "1967f6ac-16a5-4a2e-a38b-7bd63ecef2e3",
   "metadata": {},
   "outputs": [
    {
     "data": {
      "text/plain": [
       "array([[ 0,  1,  2,  3,  4,  5,  6,  7],\n",
       "       [ 8,  9, 10, 11, 12, 13, 14, 15],\n",
       "       [16, 17, 18, 19, 20, 21, 22, 23],\n",
       "       [24, 25, 26, 27, 28, 29, 30, 31],\n",
       "       [32, 33, 34, 35, 36, 37, 38, 39],\n",
       "       [40, 41, 42, 43, 44, 45, 46, 47]])"
      ]
     },
     "execution_count": 3,
     "metadata": {},
     "output_type": "execute_result"
    }
   ],
   "source": [
    "dataset"
   ]
  },
  {
   "cell_type": "markdown",
   "id": "7bf748d6-3b62-42ae-977c-5ddc8b4adcd4",
   "metadata": {},
   "source": [
    "# Splitting"
   ]
  },
  {
   "cell_type": "code",
   "execution_count": 4,
   "id": "f356698e-eadd-46d2-82e1-f4bb0272a8cf",
   "metadata": {},
   "outputs": [
    {
     "data": {
      "text/plain": [
       "[array([[ 0,  1,  2,  3],\n",
       "        [ 8,  9, 10, 11],\n",
       "        [16, 17, 18, 19],\n",
       "        [24, 25, 26, 27],\n",
       "        [32, 33, 34, 35],\n",
       "        [40, 41, 42, 43]]),\n",
       " array([[ 4,  5,  6,  7],\n",
       "        [12, 13, 14, 15],\n",
       "        [20, 21, 22, 23],\n",
       "        [28, 29, 30, 31],\n",
       "        [36, 37, 38, 39],\n",
       "        [44, 45, 46, 47]])]"
      ]
     },
     "execution_count": 4,
     "metadata": {},
     "output_type": "execute_result"
    }
   ],
   "source": [
    "np.hsplit(dataset, 2)"
   ]
  },
  {
   "cell_type": "code",
   "execution_count": 5,
   "id": "cde43213-9439-4ed2-8aac-e087007130da",
   "metadata": {},
   "outputs": [
    {
     "data": {
      "text/plain": [
       "[array([[ 0,  1,  2,  3],\n",
       "        [ 8,  9, 10, 11],\n",
       "        [16, 17, 18, 19],\n",
       "        [24, 25, 26, 27],\n",
       "        [32, 33, 34, 35],\n",
       "        [40, 41, 42, 43]]),\n",
       " array([[ 4,  5,  6,  7],\n",
       "        [12, 13, 14, 15],\n",
       "        [20, 21, 22, 23],\n",
       "        [28, 29, 30, 31],\n",
       "        [36, 37, 38, 39],\n",
       "        [44, 45, 46, 47]])]"
      ]
     },
     "execution_count": 5,
     "metadata": {},
     "output_type": "execute_result"
    }
   ],
   "source": [
    "np.split(dataset,2, axis=1)"
   ]
  },
  {
   "cell_type": "code",
   "execution_count": 6,
   "id": "bf5c7279-57f4-46ea-a5b0-9fecbaf0426e",
   "metadata": {},
   "outputs": [
    {
     "data": {
      "text/plain": [
       "[array([[ 0,  1,  2,  3,  4,  5,  6,  7],\n",
       "        [ 8,  9, 10, 11, 12, 13, 14, 15],\n",
       "        [16, 17, 18, 19, 20, 21, 22, 23]]),\n",
       " array([[24, 25, 26, 27, 28, 29, 30, 31],\n",
       "        [32, 33, 34, 35, 36, 37, 38, 39],\n",
       "        [40, 41, 42, 43, 44, 45, 46, 47]])]"
      ]
     },
     "execution_count": 6,
     "metadata": {},
     "output_type": "execute_result"
    }
   ],
   "source": [
    "np.vsplit(dataset, 2)"
   ]
  },
  {
   "cell_type": "code",
   "execution_count": 7,
   "id": "1bd865f4-5194-4d1a-9b1c-0a8d4a0a8092",
   "metadata": {},
   "outputs": [
    {
     "data": {
      "text/plain": [
       "[array([[ 0,  1,  2,  3,  4,  5,  6,  7],\n",
       "        [ 8,  9, 10, 11, 12, 13, 14, 15],\n",
       "        [16, 17, 18, 19, 20, 21, 22, 23]]),\n",
       " array([[24, 25, 26, 27, 28, 29, 30, 31],\n",
       "        [32, 33, 34, 35, 36, 37, 38, 39],\n",
       "        [40, 41, 42, 43, 44, 45, 46, 47]])]"
      ]
     },
     "execution_count": 7,
     "metadata": {},
     "output_type": "execute_result"
    }
   ],
   "source": [
    "np.split(dataset,2, axis=0)"
   ]
  },
  {
   "cell_type": "code",
   "execution_count": 8,
   "id": "ae4df07c-125f-4056-9b71-13cc7f5bbb2c",
   "metadata": {},
   "outputs": [
    {
     "name": "stdout",
     "output_type": "stream",
     "text": [
      "0\n",
      "1\n",
      "2\n",
      "3\n",
      "4\n",
      "5\n",
      "6\n",
      "7\n",
      "8\n",
      "9\n",
      "10\n",
      "11\n",
      "12\n",
      "13\n",
      "14\n",
      "15\n",
      "16\n",
      "17\n",
      "18\n",
      "19\n",
      "20\n",
      "21\n",
      "22\n",
      "23\n",
      "24\n",
      "25\n",
      "26\n",
      "27\n",
      "28\n",
      "29\n",
      "30\n",
      "31\n",
      "32\n",
      "33\n",
      "34\n",
      "35\n",
      "36\n",
      "37\n",
      "38\n",
      "39\n",
      "40\n",
      "41\n",
      "42\n",
      "43\n",
      "44\n",
      "45\n",
      "46\n",
      "47\n"
     ]
    }
   ],
   "source": [
    "for data in np.nditer(dataset):\n",
    "    print(data)"
   ]
  },
  {
   "cell_type": "code",
   "execution_count": 9,
   "id": "2b48d2f2-8b2b-4916-a315-d1ad85eb9f92",
   "metadata": {},
   "outputs": [
    {
     "name": "stdout",
     "output_type": "stream",
     "text": [
      "[0 1 2 3 4 5 6 7]\n",
      "[ 8  9 10 11 12 13 14 15]\n",
      "[16 17 18 19 20 21 22 23]\n",
      "[24 25 26 27 28 29 30 31]\n",
      "[32 33 34 35 36 37 38 39]\n",
      "[40 41 42 43 44 45 46 47]\n"
     ]
    }
   ],
   "source": [
    "for data in dataset:\n",
    "    print(data)"
   ]
  },
  {
   "cell_type": "code",
   "execution_count": 10,
   "id": "fcb8d374-0d83-46c4-8c54-f1e1873bbe6f",
   "metadata": {},
   "outputs": [
    {
     "name": "stdout",
     "output_type": "stream",
     "text": [
      "0\n",
      "1\n",
      "2\n",
      "3\n",
      "4\n",
      "5\n",
      "6\n",
      "7\n",
      "8\n",
      "9\n",
      "10\n",
      "11\n",
      "12\n",
      "13\n",
      "14\n",
      "15\n",
      "16\n",
      "17\n",
      "18\n",
      "19\n",
      "20\n",
      "21\n",
      "22\n",
      "23\n",
      "24\n",
      "25\n",
      "26\n",
      "27\n",
      "28\n",
      "29\n",
      "30\n",
      "31\n",
      "32\n",
      "33\n",
      "34\n",
      "35\n",
      "36\n",
      "37\n",
      "38\n",
      "39\n",
      "40\n",
      "41\n",
      "42\n",
      "43\n",
      "44\n",
      "45\n",
      "46\n",
      "47\n"
     ]
    }
   ],
   "source": [
    "for data in dataset:\n",
    "    for value in data:\n",
    "        print(value)"
   ]
  },
  {
   "cell_type": "markdown",
   "id": "5e7c1d2f-e497-49fa-ac93-4d591a7948d6",
   "metadata": {},
   "source": [
    "# Filtering, Sorting, Combining and reshaping"
   ]
  },
  {
   "cell_type": "code",
   "execution_count": 11,
   "id": "3beb6d41-5c97-4af8-9cad-aded831ac1ae",
   "metadata": {},
   "outputs": [
    {
     "data": {
      "text/plain": [
       "array([[ 0,  1,  2,  3,  4,  5,  6,  7],\n",
       "       [ 8,  9, 10, 11, 12, 13, 14, 15],\n",
       "       [16, 17, 18, 19, 20, 21, 22, 23],\n",
       "       [24, 25, 26, 27, 28, 29, 30, 31],\n",
       "       [32, 33, 34, 35, 36, 37, 38, 39],\n",
       "       [40, 41, 42, 43, 44, 45, 46, 47]])"
      ]
     },
     "execution_count": 11,
     "metadata": {},
     "output_type": "execute_result"
    }
   ],
   "source": [
    "dataset"
   ]
  },
  {
   "cell_type": "code",
   "execution_count": 12,
   "id": "d3e24c93-1e55-49a7-9451-bfcc0aa6f149",
   "metadata": {},
   "outputs": [
    {
     "data": {
      "text/plain": [
       "array([0, 1, 2, 3, 4, 5, 6, 7, 8, 9])"
      ]
     },
     "execution_count": 12,
     "metadata": {},
     "output_type": "execute_result"
    }
   ],
   "source": [
    "np.extract((dataset < 10), dataset)"
   ]
  },
  {
   "cell_type": "code",
   "execution_count": 13,
   "id": "8c60f7f7-9af5-47cb-afb6-f7c5c6322e30",
   "metadata": {},
   "outputs": [
    {
     "data": {
      "text/plain": [
       "array([ 0,  1,  2,  3,  4,  5,  6,  7,  8,  9, 41, 42, 43, 44, 45, 46, 47])"
      ]
     },
     "execution_count": 13,
     "metadata": {},
     "output_type": "execute_result"
    }
   ],
   "source": [
    "np.extract((dataset < 10)|(dataset > 40), dataset)"
   ]
  },
  {
   "cell_type": "code",
   "execution_count": 14,
   "id": "ddad23e8-a295-455a-8ee2-464894015a0e",
   "metadata": {},
   "outputs": [
    {
     "data": {
      "text/plain": [
       "(array([0, 0, 0, 0, 0, 0, 0, 0, 1, 1], dtype=int64),\n",
       " array([0, 1, 2, 3, 4, 5, 6, 7, 0, 1], dtype=int64))"
      ]
     },
     "execution_count": 14,
     "metadata": {},
     "output_type": "execute_result"
    }
   ],
   "source": [
    "np.where(dataset < 10)"
   ]
  },
  {
   "cell_type": "code",
   "execution_count": 15,
   "id": "4ab8efbf-155a-424d-a986-86c870abe2ec",
   "metadata": {},
   "outputs": [
    {
     "data": {
      "text/plain": [
       "(array([0, 0, 0, 0, 0, 0, 0, 0, 1, 1, 5, 5, 5, 5, 5, 5, 5], dtype=int64),\n",
       " array([0, 1, 2, 3, 4, 5, 6, 7, 0, 1, 1, 2, 3, 4, 5, 6, 7], dtype=int64))"
      ]
     },
     "execution_count": 15,
     "metadata": {},
     "output_type": "execute_result"
    }
   ],
   "source": [
    "np.where((dataset < 10) | (dataset > 40))"
   ]
  },
  {
   "cell_type": "markdown",
   "id": "f34acc2d-e0a3-4008-b10e-159c8d80ef43",
   "metadata": {},
   "source": [
    "## Sorting"
   ]
  },
  {
   "cell_type": "code",
   "execution_count": 19,
   "id": "7bc2f7e3-dc7b-4cb2-b99a-273efbcc969d",
   "metadata": {},
   "outputs": [
    {
     "data": {
      "text/plain": [
       "array([[ 3, 96, 19, 95, 33, 67, 27, 45],\n",
       "       [ 7, 58, 36, 96, 46, 30, 37,  8],\n",
       "       [36, 61, 11, 10, 56, 52, 50, 37],\n",
       "       [17,  4, 88, 20, 29, 71, 72, 67],\n",
       "       [60, 89, 28,  0, 66, 20, 20, 51],\n",
       "       [18, 47, 24, 27, 22, 29, 49, 94]])"
      ]
     },
     "execution_count": 19,
     "metadata": {},
     "output_type": "execute_result"
    }
   ],
   "source": [
    "from numpy import random\n",
    "x = random.randint(100, size=(6,8))\n",
    "x"
   ]
  },
  {
   "cell_type": "code",
   "execution_count": 21,
   "id": "a10692ff-b5e4-4121-96af-8f5b854f15ea",
   "metadata": {},
   "outputs": [
    {
     "data": {
      "text/plain": [
       "array([[ 3, 19, 27, 33, 45, 67, 95, 96],\n",
       "       [ 7,  8, 30, 36, 37, 46, 58, 96],\n",
       "       [10, 11, 36, 37, 50, 52, 56, 61],\n",
       "       [ 4, 17, 20, 29, 67, 71, 72, 88],\n",
       "       [ 0, 20, 20, 28, 51, 60, 66, 89],\n",
       "       [18, 22, 24, 27, 29, 47, 49, 94]])"
      ]
     },
     "execution_count": 21,
     "metadata": {},
     "output_type": "execute_result"
    }
   ],
   "source": [
    "np.sort(x)"
   ]
  },
  {
   "cell_type": "code",
   "execution_count": 22,
   "id": "b82e71d8-df99-490e-b146-c57c67f930c3",
   "metadata": {},
   "outputs": [
    {
     "data": {
      "text/plain": [
       "array([[ 3, 19, 27, 33, 45, 67, 95, 96],\n",
       "       [ 7,  8, 30, 36, 37, 46, 58, 96],\n",
       "       [10, 11, 36, 37, 50, 52, 56, 61],\n",
       "       [ 4, 17, 20, 29, 67, 71, 72, 88],\n",
       "       [ 0, 20, 20, 28, 51, 60, 66, 89],\n",
       "       [18, 22, 24, 27, 29, 47, 49, 94]])"
      ]
     },
     "execution_count": 22,
     "metadata": {},
     "output_type": "execute_result"
    }
   ],
   "source": [
    "np.sort(x, axis=1)"
   ]
  },
  {
   "cell_type": "code",
   "execution_count": 23,
   "id": "21152b6b-73d5-41b5-91cf-ec728667e8d6",
   "metadata": {},
   "outputs": [
    {
     "data": {
      "text/plain": [
       "array([[ 3,  4, 11,  0, 22, 20, 20,  8],\n",
       "       [ 7, 47, 19, 10, 29, 29, 27, 37],\n",
       "       [17, 58, 24, 20, 33, 30, 37, 45],\n",
       "       [18, 61, 28, 27, 46, 52, 49, 51],\n",
       "       [36, 89, 36, 95, 56, 67, 50, 67],\n",
       "       [60, 96, 88, 96, 66, 71, 72, 94]])"
      ]
     },
     "execution_count": 23,
     "metadata": {},
     "output_type": "execute_result"
    }
   ],
   "source": [
    "np.sort(x, axis=0)"
   ]
  },
  {
   "cell_type": "code",
   "execution_count": 26,
   "id": "6befc936-c725-427a-81d6-0ab0ce14cd85",
   "metadata": {},
   "outputs": [
    {
     "data": {
      "text/plain": [
       "array([[0, 1, 2],\n",
       "       [3, 4, 5],\n",
       "       [6, 7, 8]])"
      ]
     },
     "execution_count": 26,
     "metadata": {},
     "output_type": "execute_result"
    }
   ],
   "source": [
    "dataset = np.arange(9).reshape(3,3)\n",
    "dataset"
   ]
  },
  {
   "cell_type": "markdown",
   "id": "bca4f411-fd65-48a1-b909-69cfb80991a6",
   "metadata": {},
   "source": [
    "## Combining and reshaping"
   ]
  },
  {
   "cell_type": "code",
   "execution_count": null,
   "id": "d97ed386-8089-46a0-bd8e-9073c44ed41e",
   "metadata": {},
   "outputs": [],
   "source": []
  }
 ],
 "metadata": {
  "kernelspec": {
   "display_name": "Python 3 (ipykernel)",
   "language": "python",
   "name": "python3"
  },
  "language_info": {
   "codemirror_mode": {
    "name": "ipython",
    "version": 3
   },
   "file_extension": ".py",
   "mimetype": "text/x-python",
   "name": "python",
   "nbconvert_exporter": "python",
   "pygments_lexer": "ipython3",
   "version": "3.8.12"
  }
 },
 "nbformat": 4,
 "nbformat_minor": 5
}
